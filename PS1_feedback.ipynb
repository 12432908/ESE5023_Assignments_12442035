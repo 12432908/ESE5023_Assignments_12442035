{
 "cells": [
  {
   "cell_type": "markdown",
   "id": "3264c1a0-ffc8-4321-9b82-f5432ec858cf",
   "metadata": {},
   "source": [
    "### 这个单元格给助教，请忽略!\n",
    "\n",
    "### Score: 108\n",
    "\n",
    "### Comment:\n",
    "Q1.[11]Good job!\n",
    "\n",
    "Q2.[11]Good job!\n",
    "\n",
    "Q3.[16.5+5.5]Good job!\n",
    "\n",
    "Q4.[5.5+16.5+4]4.3缺少对图的分析\n",
    "\n",
    "Q5.[5+27.5+5.5]Good job!\n",
    "\n",
    "请实现每个 function 内容，确保最终提交的notebook是可以运行的。\n",
    "\n",
    "每一题除了必须要报告的 输出/图表，可以添加解释（中文即可）。此外可以自定义其他 function / 变量，自由添加单元格，但请确保题目中给出的 function （如第一题的 Print_values）可以正常调用。"
   ]
  },
  {
   "cell_type": "code",
   "execution_count": 2,
   "id": "5482f652-195f-4e1a-931d-371969e23350",
   "metadata": {},
   "outputs": [
    {
     "name": "stdout",
     "output_type": "stream",
     "text": [
      "Final Result: -28\n",
      "Example Result: 5\n"
     ]
    }
   ],
   "source": [
    "# 1. Flowchart\n",
    "import random\n",
    "\n",
    "# 生成1到100之间的随机整数\n",
    "a = random.randint(1, 100)  \n",
    "b = random.randint(1, 100)\n",
    "c = random.randint(1, 100)\n",
    "\n",
    "def Print_values(a, b, c):\n",
    "    if a > b:\n",
    "        if b > c:\n",
    "            values = [a, b, c]\n",
    "        elif a > c:\n",
    "            values = [a, c, b]\n",
    "        else:\n",
    "            values = [c, a, b]\n",
    "    elif b > c:\n",
    "        values = [b, a, c]\n",
    "    else:\n",
    "        values = [c, b, a]\n",
    "\n",
    "    # 进行额外计算\n",
    "    modified_values = [values[i] * (1 if i < 2 else -10) for i in range(3)]\n",
    "    \n",
    "    # 返回 modified_values 的和\n",
    "    result = sum(modified_values)\n",
    "    return result\n",
    "\n",
    "# 调用函数并打印结果\n",
    "final_result = Print_values(a, b, c)\n",
    "print(\"Final Result:\", final_result)\n",
    "\n",
    "example_result = Print_values(10,5,1)\n",
    "print(\"Example Result:\", example_result)"
   ]
  },
  {
   "cell_type": "code",
   "execution_count": 4,
   "id": "2588f7d6-8eb8-449a-b4b4-ada55263e2ce",
   "metadata": {},
   "outputs": [
    {
     "name": "stdout",
     "output_type": "stream",
     "text": [
      "[1, 5, 7, 13, 15, 305]\n"
     ]
    }
   ],
   "source": [
    "# 2. Continuous ceiling function\n",
    "# memo={1: 1},将F(1)储存为1\n",
    "def F(x, memo={1: 1}): \n",
    "    if x in memo:\n",
    "        return memo[x]\n",
    "    result = F((x + 2) // 3) + 2 * x\n",
    "    memo[x] = result\n",
    "    return result\n",
    "\n",
    "# 测试\n",
    "# N = [1, 3, 9, 27]\n",
    "N = [1, 2, 3, 4, 5, 100]\n",
    "results = [F(x) for x in N]\n",
    "print(results)"
   ]
  },
  {
   "cell_type": "code",
   "execution_count": 5,
   "id": "7c300441-1aae-4627-93b7-82dec9636588",
   "metadata": {},
   "outputs": [
    {
     "name": "stdout",
     "output_type": "stream",
     "text": [
      "4395456\n"
     ]
    }
   ],
   "source": [
    "# 3. Dice rolling\n",
    "# 3.1.\n",
    "def Find_number_of_ways(x):  \n",
    "    # 初始化 dp 数组，dp[i][j] 表示使用 i 个骰子得到和为 j 的方法数  \n",
    "    # dp[0][0] = 1 表示使用 0 个骰子得到和为 0 的方法只有 1 种（即不使用任何骰子）  \n",
    "    dp = [[0] * (x + 1) for _ in range(11)]  \n",
    "    dp[0][0] = 1  \n",
    "  \n",
    "    # 遍历每个可能的骰子数量（从 1 到 10）  \n",
    "    for i in range(1, 11):  \n",
    "        # 遍历每个可能的和（从 i 到 6*i，因为每个骰子最小是 1，最大是 6）  \n",
    "        for j in range(i, x + 1):  \n",
    "            # 更新 dp 数组，对于每个可能的骰子值 k（从 1 到 6）  \n",
    "            for k in range(1, 7):  \n",
    "                if j >= k:  \n",
    "                    dp[i][j] += dp[i - 1][j - k]  \n",
    "  \n",
    "    # 返回使用 10 个骰子得到和为 x 的方法数  \n",
    "    return dp[10][x]  \n",
    "\n",
    "x = 35  \n",
    "print(Find_number_of_ways(x))"
   ]
  },
  {
   "cell_type": "code",
   "execution_count": 6,
   "id": "b004b9a1-367d-4884-b44b-5267e40e2d84",
   "metadata": {},
   "outputs": [
    {
     "name": "stdout",
     "output_type": "stream",
     "text": [
      "35\n"
     ]
    }
   ],
   "source": [
    "# 3.2\n",
    "# 定义一个空列表用于存储每个x的和的方式数量  \n",
    "Number_of_ways = []  \n",
    "  \n",
    "# 计算从10到60的每个x的和的方式数量  \n",
    "for x in range(10, 61):  \n",
    "    number_of_ways = Find_number_of_ways(x)  \n",
    "    Number_of_ways.append(number_of_ways)  \n",
    "  \n",
    "# 找出方式数量最多的x  \n",
    "max_index = Number_of_ways.index(max(Number_of_ways))  \n",
    "max_x = 10 + max_index \n",
    "\n",
    "print(max_x)"
   ]
  },
  {
   "cell_type": "code",
   "execution_count": 11,
   "id": "21c910cc-2bfa-4dab-9911-69ef3e6d43ed",
   "metadata": {},
   "outputs": [
    {
     "name": "stdout",
     "output_type": "stream",
     "text": [
      "[7, 2, 3, 8, 1, 1, 6, 0, 7, 3]\n"
     ]
    }
   ],
   "source": [
    "# 4.Dynamic programming\n",
    "# 4.1\n",
    "import random  \n",
    "def Random_integer(N):\n",
    "    # 定义一个空列表用于存储随机整数\n",
    "    random_array = []\n",
    "    for _ in range(N):\n",
    "        # 生成随机从0到10之间的随机整数\n",
    "        random_integer = random.randint(0,10)\n",
    "        # 将随机整数添加到列表中 \n",
    "        random_array.append(random_integer)\n",
    "    # 输出填充好的列表\n",
    "    return random_array\n",
    "\n",
    "print(Random_integer(10))"
   ]
  },
  {
   "cell_type": "code",
   "execution_count": 12,
   "id": "4c929115-d64b-4c7c-b867-6d0d9248c5da",
   "metadata": {},
   "outputs": [
    {
     "name": "stdout",
     "output_type": "stream",
     "text": [
      "14.0\n"
     ]
    }
   ],
   "source": [
    "# 4.2\n",
    "from itertools import combinations  \n",
    "def Sum_averages(arr):\n",
    "    total_sum = 0.0\n",
    "    n = len(arr)\n",
    "    # 遍历所有可能的子集长度（从1到数组长度）  \n",
    "    for r in range(1, n + 1):  \n",
    "        # 生成长度为r的所有子集  \n",
    "        for subset in combinations(arr, r):  \n",
    "            # 计算当前子集的平均值  \n",
    "            average = sum(subset) / len(subset)  \n",
    "            # 将平均值加到总和中  \n",
    "            total_sum += average \n",
    "    return total_sum\n",
    "# 示例\n",
    "arr = [1, 2, 3]  \n",
    "result = Sum_averages(arr)  \n",
    "print(result)"
   ]
  },
  {
   "cell_type": "code",
   "execution_count": 15,
   "id": "fffedcc7",
   "metadata": {},
   "outputs": [
    {
     "data": {
      "image/png": "[encoded data removed]",
      "text/plain": [
       "<Figure size 640x480 with 1 Axes>"
      ]
     },
     "metadata": {},
     "output_type": "display_data"
    }
   ],
   "source": [
    "# 4.3\n",
    "import matplotlib.pyplot as plt \n",
    "# 定义一个空列表来存储每个N对应的Sum_averages输出  \n",
    "Total_sum_averages = []\n",
    "\n",
    "# 对N从1到100进行循环  \n",
    "for N in range(1, 21):  \n",
    "    # 创建包含从1到N的整数的数组  \n",
    "    arr = Random_integer(N) \n",
    "    # 计算Sum_averages并添加到列表中  \n",
    "    total_sum = Sum_averages(arr)  \n",
    "    Total_sum_averages.append(total_sum)  \n",
    "\n",
    "# print(Total_sum_averages)\n",
    "#使用matplotlib进行绘图  \n",
    "plt.plot(range(1, 21), Total_sum_averages, marker='o')  \n",
    "plt.xlabel('N')  \n",
    "plt.ylabel('Total Sum of Averages')  \n",
    "plt.title('Total Sum of Averages for Increasing N')  \n",
    "plt.grid(True)\n",
    "# NOTE: 缺少对图的分析 -1\n",
    "plt.show() "
   ]
  },
  {
   "cell_type": "code",
   "execution_count": 76,
   "id": "a13a558b-577b-4429-abc6-d2bbdfa06527",
   "metadata": {},
   "outputs": [
    {
     "name": "stdout",
     "output_type": "stream",
     "text": [
      "[[1 1 0 0]\n",
      " [0 0 1 0]\n",
      " [1 1 1 1]\n",
      " [0 1 0 1]]\n"
     ]
    }
   ],
   "source": [
    "# 5. Path counting\n",
    "import numpy as np  \n",
    "# 5.1  \n",
    "def create_matrix(N, M): \n",
    "    # 创建一个N行M列的矩阵，初始化为0  \n",
    "    matrix = np.zeros((N, M), dtype=int)\n",
    "    if N>1 and M>1:\n",
    "        for i in range(0, N):  \n",
    "            for j in range(0, M):  \n",
    "                matrix[i, j] = np.random.randint(0, 2)\n",
    "    elif N>1 and M==1:\n",
    "        for i in range(1, N):\n",
    "            matrix[i,0]=np.random.randint(0, 2)\n",
    "            matrix[-1,0]=1\n",
    "    elif N==1 and M>1:\n",
    "        for j in range(1, M-1):     \n",
    "            matrix[0, j] = np.random.randint(0, 2)\n",
    "            matrix[0,-1]=1\n",
    "    # 填充左上角为1\n",
    "    matrix[0,0] = 1\n",
    "    matrix[-1,-1]=1\n",
    "    return matrix\n",
    "random_matrix = create_matrix(4, 4)\n",
    "print(random_matrix)"
   ]
  },
  {
   "cell_type": "code",
   "execution_count": 89,
   "id": "37685b7a-d86b-48b6-9422-e041eb886cc1",
   "metadata": {},
   "outputs": [
    {
     "name": "stdout",
     "output_type": "stream",
     "text": [
      "[[1 1 0 1]\n",
      " [1 0 0 0]\n",
      " [1 1 1 1]\n",
      " [1 1 0 1]]\n"
     ]
    },
    {
     "data": {
      "text/plain": [
       "1"
      ]
     },
     "execution_count": 89,
     "metadata": {},
     "output_type": "execute_result"
    }
   ],
   "source": [
    "# 5.2\n",
    "def Count_path(matrix):  \n",
    "    N = len(matrix)  \n",
    "    M = len(matrix[0])  \n",
    "      \n",
    "    # 创建一个与原始矩阵相同大小的DP数组，并初始化为0（表示不可达）  \n",
    "    dp = [[0] * M for _ in range(N)]  \n",
    "    # 左上角是起点，路径数为1（因为起点总是可达的）\n",
    "    dp[0][0] = 1    \n",
    "    \n",
    "    # 填充第一列（如果可能）  \n",
    "    for i in range(1, N):  \n",
    "        # 如果当前单元格是可达的,从上方累加路径数（如果上方也是可达的）\n",
    "        if matrix[i][0] == 1:   \n",
    "            dp[i][0] = dp[i-1][0] if matrix[i-1][0] == 1 else 0\n",
    "      \n",
    "    # 填充第一行（如果可能）  \n",
    "    for j in range(1, M):  \n",
    "        # 如果当前单元格是可达的,从左方累加路径数（如果左方也是可达的）\n",
    "        if matrix[0][j] == 1:   \n",
    "            dp[0][j] = dp[0][j-1] if matrix[0][j-1] == 1 else 0    \n",
    "      \n",
    "    # 填充剩余的网格  \n",
    "    for i in range(1, N):  \n",
    "        for j in range(1, M):  \n",
    "            # 如果当前单元格是可达的,从上方和左方累加路径数（如果它们是可达的）\n",
    "            if matrix[i][j] == 1:       \n",
    "                dp[i][j] = (dp[i-1][j] if matrix[i-1][j] == 1 else 0) + (dp[i][j-1] if matrix[i][j-1] == 1 else 0)  \n",
    "    # 返回右下角单元格的路径数\n",
    "    return dp[N-1][M-1]\n",
    "    \n",
    "matrix = create_matrix(4, 4)\n",
    "print(matrix)\n",
    "Count_path(matrix)"
   ]
  },
  {
   "cell_type": "code",
   "execution_count": 108,
   "id": "35e6ec95",
   "metadata": {},
   "outputs": [
    {
     "name": "stdout",
     "output_type": "stream",
     "text": [
      "0.118\n"
     ]
    }
   ],
   "source": [
    "#5.3\n",
    "total_sum = 0\n",
    "for i in range(1000):\n",
    "    matrix = create_matrix(10,8)\n",
    "    path_num = Count_path(matrix)\n",
    "    total_sum += path_num\n",
    "    \n",
    "mean_path_num = total_sum/1000\n",
    "print(mean_path_num)"
   ]
  },
  {
   "cell_type": "code",
   "execution_count": null,
   "id": "601b2751-20a5-4722-b844-9506a7c38b9a",
   "metadata": {},
   "outputs": [],
   "source": []
  }
 ],
 "metadata": {
  "kernelspec": {
   "display_name": "Python 3 (ipykernel)",
   "language": "python",
   "name": "python3"
  },
  "language_info": {
   "codemirror_mode": {
    "name": "ipython",
    "version": 3
   },
   "file_extension": ".py",
   "mimetype": "text/x-python",
   "name": "python",
   "nbconvert_exporter": "python",
   "pygments_lexer": "ipython3",
   "version": "3.12.7"
  }
 },
 "nbformat": 4,
 "nbformat_minor": 5
}
